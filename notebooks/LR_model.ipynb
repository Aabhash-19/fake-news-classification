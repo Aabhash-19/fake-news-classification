{
 "cells": [
  {
   "cell_type": "markdown",
   "id": "81603f79",
   "metadata": {},
   "source": [
    "### Importing packages"
   ]
  },
  {
   "cell_type": "code",
   "execution_count": null,
   "id": "8f55c10a",
   "metadata": {},
   "outputs": [],
   "source": [
    "import pandas as pd\n",
    "import numpy as np\n",
    "import matplotlib.pyplot as plt\n",
    "import seaborn as sns\n",
    "import pickle\n",
    "import os\n",
    "\n",
    "from sklearn.model_selection import train_test_split\n",
    "from sklearn.feature_extraction.text import TfidfVectorizer\n",
    "from sklearn.linear_model import LogisticRegression\n",
    "from sklearn.metrics import accuracy_score, classification_report, confusion_matrix"
   ]
  },
  {
   "cell_type": "markdown",
   "id": "f811da9b",
   "metadata": {},
   "source": [
    "### Loading Dataset"
   ]
  },
  {
   "cell_type": "code",
   "execution_count": 2,
   "id": "b58c4fbb",
   "metadata": {},
   "outputs": [],
   "source": [
    "true_path = \"/Users/irray/Desktop/Projects/Fake News Classifier/dataset/True.csv\"\n",
    "fake_path = \"/Users/irray/Desktop/Projects/Fake News Classifier/dataset/Fake.csv\"\n",
    "\n",
    "df_true = pd.read_csv(true_path)\n",
    "df_fake = pd.read_csv(fake_path)"
   ]
  },
  {
   "cell_type": "code",
   "execution_count": 3,
   "id": "51800fa0",
   "metadata": {},
   "outputs": [],
   "source": [
    "def detect_text_col(df):\n",
    "    candidates = [\"text\", \"content\", \"article\", \"title\"]\n",
    "    for c in candidates:\n",
    "        if c in df.columns:\n",
    "            return c\n",
    "    return df.columns[0] "
   ]
  },
  {
   "cell_type": "code",
   "execution_count": 4,
   "id": "8abef1a9",
   "metadata": {},
   "outputs": [
    {
     "name": "stdout",
     "output_type": "stream",
     "text": [
      "Dataset shape: (44898, 2)\n"
     ]
    }
   ],
   "source": [
    "tc_true = detect_text_col(df_true)\n",
    "tc_fake = detect_text_col(df_fake)\n",
    "\n",
    "df_true = df_true.rename(columns={tc_true: \"text\"})[[\"text\"]].copy()\n",
    "df_fake = df_fake.rename(columns={tc_fake: \"text\"})[[\"text\"]].copy()\n",
    "\n",
    "df_true[\"label\"] = 0  \n",
    "df_fake[\"label\"] = 1  \n",
    "\n",
    "df = pd.concat([df_true, df_fake], ignore_index=True).sample(frac=1, random_state=42).reset_index(drop=True)\n",
    "print(\"Dataset shape:\", df.shape)"
   ]
  },
  {
   "cell_type": "markdown",
   "id": "79192133",
   "metadata": {},
   "source": [
    "### Train-Test Split"
   ]
  },
  {
   "cell_type": "code",
   "execution_count": null,
   "id": "ed8cacc6",
   "metadata": {},
   "outputs": [],
   "source": [
    "X = df[\"text\"].astype(str)\n",
    "y = df[\"label\"]\n",
    "\n",
    "X_train, X_test, y_train, y_test = train_test_split(\n",
    "    X, y, test_size=0.2, stratify=y, random_state=42\n",
    ")"
   ]
  },
  {
   "cell_type": "markdown",
   "id": "51037e45",
   "metadata": {},
   "source": [
    "### TF-IDF Vectorizer"
   ]
  },
  {
   "cell_type": "code",
   "execution_count": 6,
   "id": "8f40d711",
   "metadata": {},
   "outputs": [],
   "source": [
    "vectorizer = TfidfVectorizer(max_features=20000, ngram_range=(1,2), stop_words=\"english\")\n",
    "X_train_tfidf = vectorizer.fit_transform(X_train)\n",
    "X_test_tfidf = vectorizer.transform(X_test)"
   ]
  },
  {
   "cell_type": "markdown",
   "id": "49a30dc1",
   "metadata": {},
   "source": [
    "### Training Model using Logistic Regression"
   ]
  },
  {
   "cell_type": "code",
   "execution_count": 7,
   "id": "98427c31",
   "metadata": {},
   "outputs": [
    {
     "name": "stderr",
     "output_type": "stream",
     "text": [
      "[Parallel(n_jobs=-1)]: Using backend ThreadingBackend with 10 concurrent workers.\n"
     ]
    },
    {
     "name": "stdout",
     "output_type": "stream",
     "text": [
      "Epoch 1, change: 1\n",
      "Epoch 2, change: 0.11233164\n",
      "Epoch 3, change: 0.031587835\n",
      "Epoch 4, change: 0.019987893\n",
      "Epoch 5, change: 0.0085563934\n",
      "Epoch 6, change: 0.0050235578\n",
      "Epoch 7, change: 0.0080160652\n",
      "Epoch 8, change: 0.0044088362\n",
      "Epoch 9, change: 0.0022267839\n",
      "Epoch 10, change: 0.0021943125\n",
      "Epoch 11, change: 0.0006306467\n",
      "Epoch 12, change: 0.00075348384\n",
      "Epoch 13, change: 0.0011669982\n",
      "Epoch 14, change: 0.00048975387\n",
      "Epoch 15, change: 0.00015824458\n",
      "convergence after 16 epochs took 1 seconds\n"
     ]
    }
   ],
   "source": [
    "model = LogisticRegression(max_iter=200, solver=\"saga\", n_jobs=-1, verbose=1)\n",
    "model.fit(X_train_tfidf, y_train)\n",
    "\n",
    "log_reg = model"
   ]
  },
  {
   "cell_type": "markdown",
   "id": "eb0c0d6d",
   "metadata": {},
   "source": [
    "### Evaluation"
   ]
  },
  {
   "cell_type": "code",
   "execution_count": 8,
   "id": "811ddc5c",
   "metadata": {},
   "outputs": [
    {
     "name": "stdout",
     "output_type": "stream",
     "text": [
      "Final Test Accuracy: 0.9881959910913141\n",
      "\n",
      "Classification Report:\n",
      "               precision    recall  f1-score   support\n",
      "\n",
      "        True       0.99      0.99      0.99      4284\n",
      "        Fake       0.99      0.99      0.99      4696\n",
      "\n",
      "    accuracy                           0.99      8980\n",
      "   macro avg       0.99      0.99      0.99      8980\n",
      "weighted avg       0.99      0.99      0.99      8980\n",
      "\n"
     ]
    }
   ],
   "source": [
    "y_pred = model.predict(X_test_tfidf)\n",
    "accuracy = accuracy_score(y_test, y_pred)\n",
    "\n",
    "print(\"Final Test Accuracy:\", accuracy)\n",
    "print(\"\\nClassification Report:\\n\", classification_report(y_test, y_pred, target_names=[\"True\", \"Fake\"]))"
   ]
  },
  {
   "cell_type": "markdown",
   "id": "db698b1b",
   "metadata": {},
   "source": [
    "### Confusion Matrix"
   ]
  },
  {
   "cell_type": "code",
   "execution_count": 9,
   "id": "0ae6885d",
   "metadata": {},
   "outputs": [
    {
     "data": {
      "image/png": "[encoded data removed]",
      "text/plain": [
       "<Figure size 600x500 with 2 Axes>"
      ]
     },
     "metadata": {},
     "output_type": "display_data"
    }
   ],
   "source": [
    "cm = confusion_matrix(y_test, y_pred)\n",
    "plt.figure(figsize=(6,5))\n",
    "sns.heatmap(cm, annot=True, fmt=\"d\", cmap=\"Blues\", xticklabels=[\"True\",\"Fake\"], yticklabels=[\"True\",\"Fake\"])\n",
    "plt.title(\"Confusion Matrix\")\n",
    "plt.xlabel(\"Predicted\")\n",
    "plt.ylabel(\"Actual\")\n",
    "plt.show()"
   ]
  },
  {
   "cell_type": "markdown",
   "id": "b2db8dd0",
   "metadata": {},
   "source": [
    "### Accuracy Visualization"
   ]
  },
  {
   "cell_type": "code",
   "execution_count": 10,
   "id": "01342a6e",
   "metadata": {},
   "outputs": [
    {
     "data": {
      "image/png": "[encoded data removed]",
      "text/plain": [
       "<Figure size 800x500 with 1 Axes>"
      ]
     },
     "metadata": {},
     "output_type": "display_data"
    }
   ],
   "source": [
    "train_acc = []\n",
    "test_acc = []\n",
    "features = [5000, 10000, 15000, 20000]\n",
    "\n",
    "for f in features:\n",
    "    vect = TfidfVectorizer(max_features=f, ngram_range=(1,2), stop_words=\"english\")\n",
    "    X_train_f = vect.fit_transform(X_train)\n",
    "    X_test_f = vect.transform(X_test)\n",
    "    clf = LogisticRegression(max_iter=200, solver=\"saga\", n_jobs=-1)\n",
    "    clf.fit(X_train_f, y_train)\n",
    "    train_acc.append(accuracy_score(y_train, clf.predict(X_train_f)))\n",
    "    test_acc.append(accuracy_score(y_test, clf.predict(X_test_f)))\n",
    "\n",
    "plt.figure(figsize=(8,5))\n",
    "plt.plot(features, train_acc, marker=\"o\", label=\"Train Accuracy\")\n",
    "plt.plot(features, test_acc, marker=\"o\", label=\"Test Accuracy\")\n",
    "plt.title(\"Accuracy vs Number of Features (TF-IDF)\")\n",
    "plt.xlabel(\"Max Features in TF-IDF\")\n",
    "plt.ylabel(\"Accuracy\")\n",
    "plt.legend()\n",
    "plt.grid(True)\n",
    "plt.show()"
   ]
  },
  {
   "cell_type": "markdown",
   "id": "1c009785",
   "metadata": {},
   "source": [
    "### Saving Model + Vectorization for WebApp"
   ]
  },
  {
   "cell_type": "code",
   "execution_count": null,
   "id": "eb6ab462",
   "metadata": {},
   "outputs": [
    {
     "name": "stdout",
     "output_type": "stream",
     "text": [
      "✅ Model and vectorizer saved successfully!\n"
     ]
    }
   ],
   "source": [
    "os.makedirs(\"../models\", exist_ok=True)  \n",
    "\n",
    "with open(\"../models/vectorizer.pkl\", \"wb\") as f:\n",
    "    pickle.dump(vectorizer, f)\n",
    "\n",
    "with open(\"../models/log_reg.pkl\", \"wb\") as f:\n",
    "    pickle.dump(log_reg, f)\n",
    "\n",
    "print(\"✅ Model and vectorizer saved successfully!\")\n"
   ]
  },
  {
   "cell_type": "code",
   "execution_count": 12,
   "id": "cac89712",
   "metadata": {},
   "outputs": [
    {
     "name": "stdout",
     "output_type": "stream",
     "text": [
      "Prediction: [0]\n",
      "Probability: [[0.93927027 0.06072973]]\n"
     ]
    }
   ],
   "source": [
    "# Testing\n",
    "sample_text = df[df['label'] == 0]['text'].iloc[0]  \n",
    "sample_vec = vectorizer.transform([sample_text])\n",
    "print(\"Prediction:\", model.predict(sample_vec))          \n",
    "print(\"Probability:\", model.predict_proba(sample_vec))   "
   ]
  }
 ],
 "metadata": {
  "kernelspec": {
   "display_name": "myenv",
   "language": "python",
   "name": "python3"
  },
  "language_info": {
   "codemirror_mode": {
    "name": "ipython",
    "version": 3
   },
   "file_extension": ".py",
   "mimetype": "text/x-python",
   "name": "python",
   "nbconvert_exporter": "python",
   "pygments_lexer": "ipython3",
   "version": "3.12.11"
  }
 },
 "nbformat": 4,
 "nbformat_minor": 5
}
